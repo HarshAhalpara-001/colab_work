{
  "nbformat": 4,
  "nbformat_minor": 0,
  "metadata": {
    "colab": {
      "provenance": [],
      "toc_visible": true,
      "authorship_tag": "ABX9TyNs/ANLbaQAyguqiOiUyO4S",
      "include_colab_link": true
    },
    "kernelspec": {
      "name": "python3",
      "display_name": "Python 3"
    },
    "language_info": {
      "name": "python"
    }
  },
  "cells": [
    {
      "cell_type": "markdown",
      "metadata": {
        "id": "view-in-github",
        "colab_type": "text"
      },
      "source": [
        "<a href=\"https://colab.research.google.com/github/HarshAhalpara-001/colab_work/blob/main/Movie_data_processiong/DAV_movie_data_procession.ipynb\" target=\"_parent\"><img src=\"https://colab.research.google.com/assets/colab-badge.svg\" alt=\"Open In Colab\"/></a>"
      ]
    },
    {
      "cell_type": "markdown",
      "source": [
        "# Data Cleaning and Processing"
      ],
      "metadata": {
        "id": "jJC_k3Jym2yl"
      }
    },
    {
      "cell_type": "code",
      "execution_count": null,
      "metadata": {
        "id": "C_fc14EpLVDq"
      },
      "outputs": [],
      "source": [
        "import pandas as pd"
      ]
    },
    {
      "cell_type": "code",
      "source": [
        "from google.colab import drive\n",
        "drive.mount('/content/drive')"
      ],
      "metadata": {
        "colab": {
          "base_uri": "https://localhost:8080/"
        },
        "id": "mRc3bYw_LdBT",
        "outputId": "65198012-59b5-466c-9f60-8de0a75393b0"
      },
      "execution_count": null,
      "outputs": [
        {
          "output_type": "stream",
          "name": "stdout",
          "text": [
            "Drive already mounted at /content/drive; to attempt to forcibly remount, call drive.mount(\"/content/drive\", force_remount=True).\n"
          ]
        }
      ]
    },
    {
      "cell_type": "code",
      "source": [
        "data=pd.read_csv('/content/drive/MyDrive/Dataset/DAV-MovieDataset/tmdb_5000_movies.csv')\n",
        "# print(data.head())\n",
        "print(data.info())\n",
        "print(data.describe())"
      ],
      "metadata": {
        "colab": {
          "base_uri": "https://localhost:8080/"
        },
        "id": "WUSK1aiDLpRq",
        "outputId": "01c07d11-b529-4359-dda2-0df9679d0158"
      },
      "execution_count": null,
      "outputs": [
        {
          "output_type": "stream",
          "name": "stdout",
          "text": [
            "<class 'pandas.core.frame.DataFrame'>\n",
            "RangeIndex: 4803 entries, 0 to 4802\n",
            "Data columns (total 20 columns):\n",
            " #   Column                Non-Null Count  Dtype  \n",
            "---  ------                --------------  -----  \n",
            " 0   budget                4803 non-null   int64  \n",
            " 1   genres                4803 non-null   object \n",
            " 2   homepage              1712 non-null   object \n",
            " 3   id                    4803 non-null   int64  \n",
            " 4   keywords              4803 non-null   object \n",
            " 5   original_language     4803 non-null   object \n",
            " 6   original_title        4803 non-null   object \n",
            " 7   overview              4800 non-null   object \n",
            " 8   popularity            4803 non-null   float64\n",
            " 9   production_companies  4803 non-null   object \n",
            " 10  production_countries  4803 non-null   object \n",
            " 11  release_date          4802 non-null   object \n",
            " 12  revenue               4803 non-null   int64  \n",
            " 13  runtime               4801 non-null   float64\n",
            " 14  spoken_languages      4803 non-null   object \n",
            " 15  status                4803 non-null   object \n",
            " 16  tagline               3959 non-null   object \n",
            " 17  title                 4803 non-null   object \n",
            " 18  vote_average          4803 non-null   float64\n",
            " 19  vote_count            4803 non-null   int64  \n",
            "dtypes: float64(3), int64(4), object(13)\n",
            "memory usage: 750.6+ KB\n",
            "None\n",
            "             budget             id   popularity       revenue      runtime  \\\n",
            "count  4.803000e+03    4803.000000  4803.000000  4.803000e+03  4801.000000   \n",
            "mean   2.904504e+07   57165.484281    21.492301  8.226064e+07   106.875859   \n",
            "std    4.072239e+07   88694.614033    31.816650  1.628571e+08    22.611935   \n",
            "min    0.000000e+00       5.000000     0.000000  0.000000e+00     0.000000   \n",
            "25%    7.900000e+05    9014.500000     4.668070  0.000000e+00    94.000000   \n",
            "50%    1.500000e+07   14629.000000    12.921594  1.917000e+07   103.000000   \n",
            "75%    4.000000e+07   58610.500000    28.313505  9.291719e+07   118.000000   \n",
            "max    3.800000e+08  459488.000000   875.581305  2.787965e+09   338.000000   \n",
            "\n",
            "       vote_average    vote_count  \n",
            "count   4803.000000   4803.000000  \n",
            "mean       6.092172    690.217989  \n",
            "std        1.194612   1234.585891  \n",
            "min        0.000000      0.000000  \n",
            "25%        5.600000     54.000000  \n",
            "50%        6.200000    235.000000  \n",
            "75%        6.800000    737.000000  \n",
            "max       10.000000  13752.000000  \n"
          ]
        }
      ]
    },
    {
      "cell_type": "code",
      "source": [
        "import json\n",
        "genres = data['genres'].apply(json.loads)\n",
        "data['genres'] = genres.apply(lambda x: [genre_dict['name'] for genre_dict in x])\n",
        "print(data['genres'])"
      ],
      "metadata": {
        "colab": {
          "base_uri": "https://localhost:8080/"
        },
        "id": "thnQ7JAeOTIE",
        "outputId": "44779c64-ef17-44fa-d73f-2cfd5dd46678"
      },
      "execution_count": null,
      "outputs": [
        {
          "output_type": "stream",
          "name": "stdout",
          "text": [
            "0       [Action, Adventure, Fantasy, Science Fiction]\n",
            "1                        [Adventure, Fantasy, Action]\n",
            "2                          [Action, Adventure, Crime]\n",
            "3                    [Action, Crime, Drama, Thriller]\n",
            "4                [Action, Adventure, Science Fiction]\n",
            "                            ...                      \n",
            "4798                        [Action, Crime, Thriller]\n",
            "4799                                [Comedy, Romance]\n",
            "4800               [Comedy, Drama, Romance, TV Movie]\n",
            "4801                                               []\n",
            "4802                                    [Documentary]\n",
            "Name: genres, Length: 4803, dtype: object\n"
          ]
        }
      ]
    },
    {
      "cell_type": "code",
      "source": [
        "import json\n",
        "keywords = data['keywords'].apply(json.loads)\n",
        "data['keywords'] = keywords.apply(lambda x: [keyword_dict['name'] for keyword_dict in x])\n",
        "print(data['keywords'])"
      ],
      "metadata": {
        "colab": {
          "base_uri": "https://localhost:8080/"
        },
        "outputId": "44105c8a-96f3-4d20-9e2a-07e087da14c4",
        "id": "Shp1-nbJQ-SW"
      },
      "execution_count": null,
      "outputs": [
        {
          "output_type": "stream",
          "name": "stdout",
          "text": [
            "0       [culture clash, future, space war, space colon...\n",
            "1       [ocean, drug abuse, exotic island, east india ...\n",
            "2       [spy, based on novel, secret agent, sequel, mi...\n",
            "3       [dc comics, crime fighter, terrorist, secret i...\n",
            "4       [based on novel, mars, medallion, space travel...\n",
            "                              ...                        \n",
            "4798    [united states–mexico barrier, legs, arms, pap...\n",
            "4799                                                   []\n",
            "4800    [date, love at first sight, narration, investi...\n",
            "4801                                                   []\n",
            "4802            [obsession, camcorder, crush, dream girl]\n",
            "Name: keywords, Length: 4803, dtype: object\n"
          ]
        }
      ]
    },
    {
      "cell_type": "code",
      "source": [
        "import json\n",
        "production_companies = data['production_companies'].apply(json.loads)\n",
        "data['production_companies'] = production_companies.apply(lambda x: [genre_dict['name'] for genre_dict in x])\n",
        "print(data['production_companies'])"
      ],
      "metadata": {
        "colab": {
          "base_uri": "https://localhost:8080/"
        },
        "outputId": "151d5754-31d3-4d86-fc04-81044265f706",
        "id": "RVt6oMh4RLKq"
      },
      "execution_count": null,
      "outputs": [
        {
          "output_type": "stream",
          "name": "stdout",
          "text": [
            "0       [Ingenious Film Partners, Twentieth Century Fo...\n",
            "1       [Walt Disney Pictures, Jerry Bruckheimer Films...\n",
            "2                        [Columbia Pictures, Danjaq, B24]\n",
            "3       [Legendary Pictures, Warner Bros., DC Entertai...\n",
            "4                                  [Walt Disney Pictures]\n",
            "                              ...                        \n",
            "4798                                  [Columbia Pictures]\n",
            "4799                                                   []\n",
            "4800    [Front Street Pictures, Muse Entertainment Ent...\n",
            "4801                                                   []\n",
            "4802         [rusty bear entertainment, lucky crow films]\n",
            "Name: production_companies, Length: 4803, dtype: object\n"
          ]
        }
      ]
    },
    {
      "cell_type": "code",
      "source": [
        "import json\n",
        "production_countries = data['production_countries'].apply(json.loads)\n",
        "data['production_countries'] = production_countries.apply(lambda x: [genre_dict['name'] for genre_dict in x])\n",
        "print(data['production_countries'])"
      ],
      "metadata": {
        "colab": {
          "base_uri": "https://localhost:8080/"
        },
        "outputId": "ae79d66e-798b-4e26-d6b8-9d884d60b58a",
        "id": "yjOYwCLURZDs"
      },
      "execution_count": null,
      "outputs": [
        {
          "output_type": "stream",
          "name": "stdout",
          "text": [
            "0       [United States of America, United Kingdom]\n",
            "1                       [United States of America]\n",
            "2       [United Kingdom, United States of America]\n",
            "3                       [United States of America]\n",
            "4                       [United States of America]\n",
            "                           ...                    \n",
            "4798            [Mexico, United States of America]\n",
            "4799                                            []\n",
            "4800                    [United States of America]\n",
            "4801             [United States of America, China]\n",
            "4802                    [United States of America]\n",
            "Name: production_countries, Length: 4803, dtype: object\n"
          ]
        }
      ]
    },
    {
      "cell_type": "code",
      "source": [
        "data=data.drop('tagline',axis=1)\n",
        "data=data.drop('homepage',axis=1)\n",
        "data=data.drop('title',axis=1)\n",
        "data=data.drop('overview',axis=1)\n",
        "data=data.drop('spoken_languages',axis=1)\n",
        "\n",
        "data.columns"
      ],
      "metadata": {
        "colab": {
          "base_uri": "https://localhost:8080/"
        },
        "id": "QYoqMxZHQ8dN",
        "outputId": "332b449b-afa2-4e1c-f594-cf90a8c3ecbb"
      },
      "execution_count": null,
      "outputs": [
        {
          "output_type": "execute_result",
          "data": {
            "text/plain": [
              "Index(['budget', 'genres', 'id', 'keywords', 'original_language',\n",
              "       'original_title', 'popularity', 'production_companies',\n",
              "       'production_countries', 'release_date', 'revenue', 'runtime', 'status',\n",
              "       'vote_average', 'vote_count'],\n",
              "      dtype='object')"
            ]
          },
          "metadata": {},
          "execution_count": 47
        }
      ]
    },
    {
      "cell_type": "code",
      "source": [
        "data['hit'] = [True if data.loc[i, 'revenue'] > data.loc[i, 'budget'] else False for i in data.index]\n",
        "print(data['hit'])"
      ],
      "metadata": {
        "colab": {
          "base_uri": "https://localhost:8080/"
        },
        "id": "MPeQRrmOSWDE",
        "outputId": "6096dd24-80ba-414a-f6cd-fa5b56c4c4d7"
      },
      "execution_count": null,
      "outputs": [
        {
          "output_type": "stream",
          "name": "stdout",
          "text": [
            "0        True\n",
            "1        True\n",
            "2        True\n",
            "3        True\n",
            "4        True\n",
            "        ...  \n",
            "4798     True\n",
            "4799    False\n",
            "4800    False\n",
            "4801    False\n",
            "4802    False\n",
            "Name: hit, Length: 4803, dtype: bool\n"
          ]
        }
      ]
    },
    {
      "cell_type": "code",
      "source": [
        "data.isnull().sum()"
      ],
      "metadata": {
        "colab": {
          "base_uri": "https://localhost:8080/",
          "height": 585
        },
        "id": "zO6mUEmwSzcC",
        "outputId": "57a8acc7-b11a-4921-a4bf-a863df91cf96"
      },
      "execution_count": null,
      "outputs": [
        {
          "output_type": "execute_result",
          "data": {
            "text/plain": [
              "budget                  0\n",
              "genres                  0\n",
              "id                      0\n",
              "keywords                0\n",
              "original_language       0\n",
              "original_title          0\n",
              "popularity              0\n",
              "production_companies    0\n",
              "production_countries    0\n",
              "release_date            1\n",
              "revenue                 0\n",
              "runtime                 2\n",
              "status                  0\n",
              "vote_average            0\n",
              "vote_count              0\n",
              "hit                     0\n",
              "dtype: int64"
            ],
            "text/html": [
              "<div>\n",
              "<style scoped>\n",
              "    .dataframe tbody tr th:only-of-type {\n",
              "        vertical-align: middle;\n",
              "    }\n",
              "\n",
              "    .dataframe tbody tr th {\n",
              "        vertical-align: top;\n",
              "    }\n",
              "\n",
              "    .dataframe thead th {\n",
              "        text-align: right;\n",
              "    }\n",
              "</style>\n",
              "<table border=\"1\" class=\"dataframe\">\n",
              "  <thead>\n",
              "    <tr style=\"text-align: right;\">\n",
              "      <th></th>\n",
              "      <th>0</th>\n",
              "    </tr>\n",
              "  </thead>\n",
              "  <tbody>\n",
              "    <tr>\n",
              "      <th>budget</th>\n",
              "      <td>0</td>\n",
              "    </tr>\n",
              "    <tr>\n",
              "      <th>genres</th>\n",
              "      <td>0</td>\n",
              "    </tr>\n",
              "    <tr>\n",
              "      <th>id</th>\n",
              "      <td>0</td>\n",
              "    </tr>\n",
              "    <tr>\n",
              "      <th>keywords</th>\n",
              "      <td>0</td>\n",
              "    </tr>\n",
              "    <tr>\n",
              "      <th>original_language</th>\n",
              "      <td>0</td>\n",
              "    </tr>\n",
              "    <tr>\n",
              "      <th>original_title</th>\n",
              "      <td>0</td>\n",
              "    </tr>\n",
              "    <tr>\n",
              "      <th>popularity</th>\n",
              "      <td>0</td>\n",
              "    </tr>\n",
              "    <tr>\n",
              "      <th>production_companies</th>\n",
              "      <td>0</td>\n",
              "    </tr>\n",
              "    <tr>\n",
              "      <th>production_countries</th>\n",
              "      <td>0</td>\n",
              "    </tr>\n",
              "    <tr>\n",
              "      <th>release_date</th>\n",
              "      <td>1</td>\n",
              "    </tr>\n",
              "    <tr>\n",
              "      <th>revenue</th>\n",
              "      <td>0</td>\n",
              "    </tr>\n",
              "    <tr>\n",
              "      <th>runtime</th>\n",
              "      <td>2</td>\n",
              "    </tr>\n",
              "    <tr>\n",
              "      <th>status</th>\n",
              "      <td>0</td>\n",
              "    </tr>\n",
              "    <tr>\n",
              "      <th>vote_average</th>\n",
              "      <td>0</td>\n",
              "    </tr>\n",
              "    <tr>\n",
              "      <th>vote_count</th>\n",
              "      <td>0</td>\n",
              "    </tr>\n",
              "    <tr>\n",
              "      <th>hit</th>\n",
              "      <td>0</td>\n",
              "    </tr>\n",
              "  </tbody>\n",
              "</table>\n",
              "</div><br><label><b>dtype:</b> int64</label>"
            ]
          },
          "metadata": {},
          "execution_count": 49
        }
      ]
    },
    {
      "cell_type": "code",
      "source": [
        "data=data.dropna()\n",
        "data.isnull().sum()"
      ],
      "metadata": {
        "colab": {
          "base_uri": "https://localhost:8080/",
          "height": 585
        },
        "id": "Cch2cL_nSVc5",
        "outputId": "f40a3c88-bb41-454e-d832-5e47e95c3f4a"
      },
      "execution_count": null,
      "outputs": [
        {
          "output_type": "execute_result",
          "data": {
            "text/plain": [
              "budget                  0\n",
              "genres                  0\n",
              "id                      0\n",
              "keywords                0\n",
              "original_language       0\n",
              "original_title          0\n",
              "popularity              0\n",
              "production_companies    0\n",
              "production_countries    0\n",
              "release_date            0\n",
              "revenue                 0\n",
              "runtime                 0\n",
              "status                  0\n",
              "vote_average            0\n",
              "vote_count              0\n",
              "hit                     0\n",
              "dtype: int64"
            ],
            "text/html": [
              "<div>\n",
              "<style scoped>\n",
              "    .dataframe tbody tr th:only-of-type {\n",
              "        vertical-align: middle;\n",
              "    }\n",
              "\n",
              "    .dataframe tbody tr th {\n",
              "        vertical-align: top;\n",
              "    }\n",
              "\n",
              "    .dataframe thead th {\n",
              "        text-align: right;\n",
              "    }\n",
              "</style>\n",
              "<table border=\"1\" class=\"dataframe\">\n",
              "  <thead>\n",
              "    <tr style=\"text-align: right;\">\n",
              "      <th></th>\n",
              "      <th>0</th>\n",
              "    </tr>\n",
              "  </thead>\n",
              "  <tbody>\n",
              "    <tr>\n",
              "      <th>budget</th>\n",
              "      <td>0</td>\n",
              "    </tr>\n",
              "    <tr>\n",
              "      <th>genres</th>\n",
              "      <td>0</td>\n",
              "    </tr>\n",
              "    <tr>\n",
              "      <th>id</th>\n",
              "      <td>0</td>\n",
              "    </tr>\n",
              "    <tr>\n",
              "      <th>keywords</th>\n",
              "      <td>0</td>\n",
              "    </tr>\n",
              "    <tr>\n",
              "      <th>original_language</th>\n",
              "      <td>0</td>\n",
              "    </tr>\n",
              "    <tr>\n",
              "      <th>original_title</th>\n",
              "      <td>0</td>\n",
              "    </tr>\n",
              "    <tr>\n",
              "      <th>popularity</th>\n",
              "      <td>0</td>\n",
              "    </tr>\n",
              "    <tr>\n",
              "      <th>production_companies</th>\n",
              "      <td>0</td>\n",
              "    </tr>\n",
              "    <tr>\n",
              "      <th>production_countries</th>\n",
              "      <td>0</td>\n",
              "    </tr>\n",
              "    <tr>\n",
              "      <th>release_date</th>\n",
              "      <td>0</td>\n",
              "    </tr>\n",
              "    <tr>\n",
              "      <th>revenue</th>\n",
              "      <td>0</td>\n",
              "    </tr>\n",
              "    <tr>\n",
              "      <th>runtime</th>\n",
              "      <td>0</td>\n",
              "    </tr>\n",
              "    <tr>\n",
              "      <th>status</th>\n",
              "      <td>0</td>\n",
              "    </tr>\n",
              "    <tr>\n",
              "      <th>vote_average</th>\n",
              "      <td>0</td>\n",
              "    </tr>\n",
              "    <tr>\n",
              "      <th>vote_count</th>\n",
              "      <td>0</td>\n",
              "    </tr>\n",
              "    <tr>\n",
              "      <th>hit</th>\n",
              "      <td>0</td>\n",
              "    </tr>\n",
              "  </tbody>\n",
              "</table>\n",
              "</div><br><label><b>dtype:</b> int64</label>"
            ]
          },
          "metadata": {},
          "execution_count": 51
        }
      ]
    },
    {
      "cell_type": "code",
      "source": [
        "data.to_csv('Movies.csv')\n",
        "data.info()"
      ],
      "metadata": {
        "id": "TWm3NrtiiFeZ",
        "colab": {
          "base_uri": "https://localhost:8080/"
        },
        "outputId": "7f68395a-4aac-4a57-f166-e563f92b332f"
      },
      "execution_count": null,
      "outputs": [
        {
          "output_type": "stream",
          "name": "stdout",
          "text": [
            "<class 'pandas.core.frame.DataFrame'>\n",
            "Index: 4800 entries, 0 to 4802\n",
            "Data columns (total 16 columns):\n",
            " #   Column                Non-Null Count  Dtype  \n",
            "---  ------                --------------  -----  \n",
            " 0   budget                4800 non-null   int64  \n",
            " 1   genres                4800 non-null   object \n",
            " 2   id                    4800 non-null   int64  \n",
            " 3   keywords              4800 non-null   object \n",
            " 4   original_language     4800 non-null   object \n",
            " 5   original_title        4800 non-null   object \n",
            " 6   popularity            4800 non-null   float64\n",
            " 7   production_companies  4800 non-null   object \n",
            " 8   production_countries  4800 non-null   object \n",
            " 9   release_date          4800 non-null   object \n",
            " 10  revenue               4800 non-null   int64  \n",
            " 11  runtime               4800 non-null   float64\n",
            " 12  status                4800 non-null   object \n",
            " 13  vote_average          4800 non-null   float64\n",
            " 14  vote_count            4800 non-null   int64  \n",
            " 15  hit                   4800 non-null   bool   \n",
            "dtypes: bool(1), float64(3), int64(4), object(8)\n",
            "memory usage: 604.7+ KB\n"
          ]
        }
      ]
    },
    {
      "cell_type": "markdown",
      "source": [],
      "metadata": {
        "id": "GBzOotUqm90r"
      }
    },
    {
      "cell_type": "markdown",
      "source": [
        "# Corelation of the data"
      ],
      "metadata": {
        "id": "qN526xv_mxaR"
      }
    },
    {
      "cell_type": "markdown",
      "source": [
        "**Practical : 6**\n",
        "\n",
        "Aim: Data Preprocessing (Data Quality ):\n",
        "Implement data smoothing and data normalization methods.\n",
        "Redundancy analysis using Pearson correlation and ChiSquare. Discretization by Intuitive Partitioning"
      ],
      "metadata": {
        "id": "-HZRlueomv4O"
      }
    },
    {
      "cell_type": "code",
      "source": [
        "correlation_data=data.copy()\n",
        "correlation_data=correlation_data.drop('id',axis=1)\n",
        "# print(correlation_data.head())\n",
        "# print(data.describe())\n",
        "# no_data=data.describe().columns\n",
        "correlation_data=correlation_data.drop(correlation_data.columns.difference(correlation_data.describe().columns),axis=1)\n",
        "print(correlation_data.head())"
      ],
      "metadata": {
        "colab": {
          "base_uri": "https://localhost:8080/"
        },
        "id": "hlTJj-JWmnaq",
        "outputId": "5adb8f73-a1c5-4062-ae4e-add8c2c0be28"
      },
      "execution_count": null,
      "outputs": [
        {
          "output_type": "stream",
          "name": "stdout",
          "text": [
            "      budget  popularity     revenue  runtime  vote_average  vote_count\n",
            "0  237000000  150.437577  2787965087    162.0           7.2       11800\n",
            "1  300000000  139.082615   961000000    169.0           6.9        4500\n",
            "2  245000000  107.376788   880674609    148.0           6.3        4466\n",
            "3  250000000  112.312950  1084939099    165.0           7.6        9106\n",
            "4  260000000   43.926995   284139100    132.0           6.1        2124\n"
          ]
        }
      ]
    },
    {
      "cell_type": "code",
      "source": [
        "# prompt: person corelation code\n",
        "\n",
        "correlation_matrix = correlation_data.corr(method='pearson')\n",
        "print(correlation_matrix)\n"
      ],
      "metadata": {
        "colab": {
          "base_uri": "https://localhost:8080/"
        },
        "id": "BCZv_HtKpFZF",
        "outputId": "22847e2e-6c68-45e3-ac41-5cc6793b54cc"
      },
      "execution_count": null,
      "outputs": [
        {
          "output_type": "stream",
          "name": "stdout",
          "text": [
            "                budget  popularity   revenue   runtime  vote_average  \\\n",
            "budget        1.000000    0.505297  0.730781  0.269792      0.092224   \n",
            "popularity    0.505297    1.000000  0.644654  0.225372      0.274212   \n",
            "revenue       0.730781    0.644654  1.000000  0.251188      0.197291   \n",
            "runtime       0.269792    0.225372  0.251188  1.000000      0.371888   \n",
            "vote_average  0.092224    0.274212  0.197291  0.371888      1.000000   \n",
            "vote_count    0.593102    0.778081  0.781450  0.272036      0.313693   \n",
            "\n",
            "              vote_count  \n",
            "budget          0.593102  \n",
            "popularity      0.778081  \n",
            "revenue         0.781450  \n",
            "runtime         0.272036  \n",
            "vote_average    0.313693  \n",
            "vote_count      1.000000  \n"
          ]
        }
      ]
    },
    {
      "cell_type": "markdown",
      "source": [],
      "metadata": {
        "id": "1ZoCJWz-rVuW"
      }
    },
    {
      "cell_type": "code",
      "source": [
        "import numpy as np\n",
        "matrix=np.array(correlation_data)\n",
        "print(matrix)\n",
        "# print(matrix.sum(axis=1).reshape(-1,1).shape)\n",
        "# print((matrix.sum(axis=0).reshape(-1,1).transpose()).shape)\n",
        "expected_matrix=matrix.sum(axis=1).reshape(-1,1).dot(matrix.sum(axis=0).reshape(-1,1).transpose())/sum(matrix.sum(axis=1))\n",
        "print(expected_matrix)"
      ],
      "metadata": {
        "colab": {
          "base_uri": "https://localhost:8080/"
        },
        "id": "zRbi0CWqrkXe",
        "outputId": "0f566988-1c16-4470-9196-827ad4a52420"
      },
      "execution_count": null,
      "outputs": [
        {
          "output_type": "stream",
          "name": "stdout",
          "text": [
            "[[2.37000000e+08 1.50437577e+02 2.78796509e+09 1.62000000e+02\n",
            "  7.20000000e+00 1.18000000e+04]\n",
            " [3.00000000e+08 1.39082615e+02 9.61000000e+08 1.69000000e+02\n",
            "  6.90000000e+00 4.50000000e+03]\n",
            " [2.45000000e+08 1.07376788e+02 8.80674609e+08 1.48000000e+02\n",
            "  6.30000000e+00 4.46600000e+03]\n",
            " ...\n",
            " [0.00000000e+00 1.44447600e+00 0.00000000e+00 1.20000000e+02\n",
            "  7.00000000e+00 6.00000000e+00]\n",
            " [0.00000000e+00 8.57008000e-01 0.00000000e+00 9.80000000e+01\n",
            "  5.70000000e+00 7.00000000e+00]\n",
            " [0.00000000e+00 1.92988300e+00 0.00000000e+00 9.00000000e+01\n",
            "  6.30000000e+00 1.60000000e+01]]\n",
            "[[7.89294416e+08 5.84108248e+02 2.23566038e+09 2.90343757e+03\n",
            "  1.65530305e+02 1.87585150e+04]\n",
            " [3.29028615e+08 2.43493839e+02 9.31966858e+08 1.21033929e+03\n",
            "  6.90036644e+01 7.81975404e+03]\n",
            " [2.93718714e+08 2.17363153e+02 8.31952283e+08 1.08045101e+03\n",
            "  6.15984953e+01 6.98057251e+03]\n",
            " ...\n",
            " [3.50800244e+01 2.59605683e-05 9.93634555e+01 1.29042672e-04\n",
            "  7.35695962e-06 8.33718256e-04]\n",
            " [2.91080949e+01 2.15411106e-05 8.24480866e+01 1.07074793e-04\n",
            "  6.10453049e-06 6.91788290e-04]\n",
            " [2.98055168e+01 2.20572296e-05 8.44235199e+01 1.09640275e-04\n",
            "  6.25079335e-06 7.08363346e-04]]\n"
          ]
        }
      ]
    },
    {
      "cell_type": "code",
      "source": [
        "chi_square_matrix=(matrix-expected_matrix)**2/expected_matrix\n",
        "print(sum(chi_square_matrix.sum(axis=1)))"
      ],
      "metadata": {
        "colab": {
          "base_uri": "https://localhost:8080/"
        },
        "id": "KsHQxnBlvoXB",
        "outputId": "655ac881-98db-4765-def8-85c454c63eb1"
      },
      "execution_count": null,
      "outputs": [
        {
          "output_type": "stream",
          "name": "stdout",
          "text": [
            "168039467091.19\n"
          ]
        }
      ]
    }
  ]
}